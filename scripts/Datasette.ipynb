{
 "cells": [
  {
   "cell_type": "markdown",
   "id": "6a42415c-76ff-4a34-a644-3f28635746dc",
   "metadata": {},
   "source": [
    "# Publish AQI bulletins data on Datasette\n",
    "This notebook publishes the AQI bulletins data we collected on [Datasette](https://datasette.io/).\n",
    "\n",
    "## Steps:\n",
    "1. [Import data into a SQLite Database](#step1)\n",
    "2. [Explore the SQLite db created](#step2)\n",
    "3. [Opening the SQLite db in Datasette](#step3)\n",
    "\n",
    "[Examples](#examples) <br>\n",
    "[References](#ref)"
   ]
  },
  {
   "cell_type": "markdown",
   "id": "b3bd70f3-d8d8-4c44-8774-88017193bb43",
   "metadata": {},
   "source": [
    "<a id=\"step1\"> </a>\n",
    "### STEP 1: Import data into a SQLite Database"
   ]
  },
  {
   "cell_type": "code",
   "execution_count": 1,
   "id": "5a405b99-6143-43ef-b7d4-cfc366122cb3",
   "metadata": {},
   "outputs": [],
   "source": [
    "import sqlite_utils\n",
    "import pandas as pd"
   ]
  },
  {
   "cell_type": "code",
   "execution_count": 107,
   "id": "202101ee-50de-4165-8b87-086e9b33ac37",
   "metadata": {},
   "outputs": [],
   "source": [
    "# Time series data -- AQI Bulletins data of all Indian Cities\n",
    "time_series_df = pd.read_csv(\"C:/Users/dskcy/UEInfo/AQI_bulletins/data/Processed/AllIndiaBulletins_Master_2024.csv\")"
   ]
  },
  {
   "cell_type": "code",
   "execution_count": 108,
   "id": "f5c1db55-dedc-4244-9a8d-d7edfc504de1",
   "metadata": {},
   "outputs": [],
   "source": [
    "#clean\n",
    "time_series_df = time_series_df[['date', 'City', 'No. Stations', 'Air Quality', 'Index Value', 'Prominent Pollutant']]\n",
    "time_series_df.columns=['date', 'city', 'no_stations', 'aqi_category','aqi','prominent_pollutant']\n",
    "time_series_df = time_series_df.replace(to_replace='Very poor', value='Very Poor')\n",
    "# Replace \"OZONE\" with \"O3\" in the 'prominent_pollutant' column\n",
    "time_series_df['prominent_pollutant'] = time_series_df['prominent_pollutant'].astype(str).str.replace(\"OZONE\", \"O3\", regex=False)\n",
    "time_series_df['date'] = pd.to_datetime(time_series_df['date'])"
   ]
  },
  {
   "cell_type": "code",
   "execution_count": 109,
   "id": "22fdb807-21b6-4732-b1fe-ae1bfacc602f",
   "metadata": {},
   "outputs": [],
   "source": [
    "time_series_df['year'] = time_series_df['date'].dt.year\n",
    "time_series_df['month'] = time_series_df['date'].dt.strftime('%b')"
   ]
  },
  {
   "cell_type": "code",
   "execution_count": 116,
   "id": "b37c0d00-f28e-4219-ac55-92169656d5c2",
   "metadata": {},
   "outputs": [
    {
     "data": {
      "text/html": [
       "<div>\n",
       "<style scoped>\n",
       "    .dataframe tbody tr th:only-of-type {\n",
       "        vertical-align: middle;\n",
       "    }\n",
       "\n",
       "    .dataframe tbody tr th {\n",
       "        vertical-align: top;\n",
       "    }\n",
       "\n",
       "    .dataframe thead th {\n",
       "        text-align: right;\n",
       "    }\n",
       "</style>\n",
       "<table border=\"1\" class=\"dataframe\">\n",
       "  <thead>\n",
       "    <tr style=\"text-align: right;\">\n",
       "      <th></th>\n",
       "      <th>date</th>\n",
       "      <th>city</th>\n",
       "      <th>no_stations</th>\n",
       "      <th>aqi_category</th>\n",
       "      <th>aqi</th>\n",
       "      <th>prominent_pollutant</th>\n",
       "      <th>year</th>\n",
       "      <th>month</th>\n",
       "    </tr>\n",
       "  </thead>\n",
       "  <tbody>\n",
       "    <tr>\n",
       "      <th>179252</th>\n",
       "      <td>2022-03-31</td>\n",
       "      <td>Aurangabad</td>\n",
       "      <td>1</td>\n",
       "      <td>Moderate</td>\n",
       "      <td>104</td>\n",
       "      <td>PM10</td>\n",
       "      <td>2022</td>\n",
       "      <td>Mar</td>\n",
       "    </tr>\n",
       "    <tr>\n",
       "      <th>179253</th>\n",
       "      <td>2022-03-31</td>\n",
       "      <td>Aurangabad</td>\n",
       "      <td>1</td>\n",
       "      <td>Poor</td>\n",
       "      <td>268</td>\n",
       "      <td>PM10</td>\n",
       "      <td>2022</td>\n",
       "      <td>Mar</td>\n",
       "    </tr>\n",
       "    <tr>\n",
       "      <th>179301</th>\n",
       "      <td>2022-04-01</td>\n",
       "      <td>Aurangabad</td>\n",
       "      <td>1</td>\n",
       "      <td>Very Poor</td>\n",
       "      <td>312</td>\n",
       "      <td>PM10</td>\n",
       "      <td>2022</td>\n",
       "      <td>Apr</td>\n",
       "    </tr>\n",
       "    <tr>\n",
       "      <th>179302</th>\n",
       "      <td>2022-04-01</td>\n",
       "      <td>Aurangabad</td>\n",
       "      <td>1</td>\n",
       "      <td>Moderate</td>\n",
       "      <td>108</td>\n",
       "      <td>PM10</td>\n",
       "      <td>2022</td>\n",
       "      <td>Apr</td>\n",
       "    </tr>\n",
       "    <tr>\n",
       "      <th>179670</th>\n",
       "      <td>2022-04-03</td>\n",
       "      <td>Aurangabad</td>\n",
       "      <td>1</td>\n",
       "      <td>Very Poor</td>\n",
       "      <td>317</td>\n",
       "      <td>PM10</td>\n",
       "      <td>2022</td>\n",
       "      <td>Apr</td>\n",
       "    </tr>\n",
       "    <tr>\n",
       "      <th>...</th>\n",
       "      <td>...</td>\n",
       "      <td>...</td>\n",
       "      <td>...</td>\n",
       "      <td>...</td>\n",
       "      <td>...</td>\n",
       "      <td>...</td>\n",
       "      <td>...</td>\n",
       "      <td>...</td>\n",
       "    </tr>\n",
       "    <tr>\n",
       "      <th>212132</th>\n",
       "      <td>2022-11-01</td>\n",
       "      <td>Aurangabad</td>\n",
       "      <td>1</td>\n",
       "      <td>Moderate</td>\n",
       "      <td>117</td>\n",
       "      <td>PM2.5</td>\n",
       "      <td>2022</td>\n",
       "      <td>Nov</td>\n",
       "    </tr>\n",
       "    <tr>\n",
       "      <th>212193</th>\n",
       "      <td>2022-11-02</td>\n",
       "      <td>Aurangabad</td>\n",
       "      <td>1</td>\n",
       "      <td>Moderate</td>\n",
       "      <td>107</td>\n",
       "      <td>PM10</td>\n",
       "      <td>2022</td>\n",
       "      <td>Nov</td>\n",
       "    </tr>\n",
       "    <tr>\n",
       "      <th>212194</th>\n",
       "      <td>2022-11-02</td>\n",
       "      <td>Aurangabad</td>\n",
       "      <td>1</td>\n",
       "      <td>Moderate</td>\n",
       "      <td>144</td>\n",
       "      <td>PM10</td>\n",
       "      <td>2022</td>\n",
       "      <td>Nov</td>\n",
       "    </tr>\n",
       "    <tr>\n",
       "      <th>212418</th>\n",
       "      <td>2022-11-03</td>\n",
       "      <td>Aurangabad</td>\n",
       "      <td>1</td>\n",
       "      <td>Moderate</td>\n",
       "      <td>169</td>\n",
       "      <td>PM10</td>\n",
       "      <td>2022</td>\n",
       "      <td>Nov</td>\n",
       "    </tr>\n",
       "    <tr>\n",
       "      <th>212419</th>\n",
       "      <td>2022-11-03</td>\n",
       "      <td>Aurangabad</td>\n",
       "      <td>1</td>\n",
       "      <td>Moderate</td>\n",
       "      <td>128</td>\n",
       "      <td>PM2.5</td>\n",
       "      <td>2022</td>\n",
       "      <td>Nov</td>\n",
       "    </tr>\n",
       "  </tbody>\n",
       "</table>\n",
       "<p>68 rows × 8 columns</p>\n",
       "</div>"
      ],
      "text/plain": [
       "             date        city  no_stations aqi_category  aqi  \\\n",
       "179252 2022-03-31  Aurangabad            1     Moderate  104   \n",
       "179253 2022-03-31  Aurangabad            1         Poor  268   \n",
       "179301 2022-04-01  Aurangabad            1    Very Poor  312   \n",
       "179302 2022-04-01  Aurangabad            1     Moderate  108   \n",
       "179670 2022-04-03  Aurangabad            1    Very Poor  317   \n",
       "...           ...         ...          ...          ...  ...   \n",
       "212132 2022-11-01  Aurangabad            1     Moderate  117   \n",
       "212193 2022-11-02  Aurangabad            1     Moderate  107   \n",
       "212194 2022-11-02  Aurangabad            1     Moderate  144   \n",
       "212418 2022-11-03  Aurangabad            1     Moderate  169   \n",
       "212419 2022-11-03  Aurangabad            1     Moderate  128   \n",
       "\n",
       "       prominent_pollutant  year month  \n",
       "179252                PM10  2022   Mar  \n",
       "179253                PM10  2022   Mar  \n",
       "179301                PM10  2022   Apr  \n",
       "179302                PM10  2022   Apr  \n",
       "179670                PM10  2022   Apr  \n",
       "...                    ...   ...   ...  \n",
       "212132               PM2.5  2022   Nov  \n",
       "212193                PM10  2022   Nov  \n",
       "212194                PM10  2022   Nov  \n",
       "212418                PM10  2022   Nov  \n",
       "212419               PM2.5  2022   Nov  \n",
       "\n",
       "[68 rows x 8 columns]"
      ]
     },
     "execution_count": 116,
     "metadata": {},
     "output_type": "execute_result"
    }
   ],
   "source": [
    "duplicates = time_series_df[time_series_df.duplicated(subset=['date', 'city'], keep=False)]\n",
    "duplicates"
   ]
  },
  {
   "cell_type": "markdown",
   "id": "81f016f9-c729-4fb9-b321-f4cf54819aac",
   "metadata": {},
   "source": [
    "**On these dates, the bulletins did not differentiate the two Aurangabads of Maharashtra and Bihar. [Example](https://cpcb.nic.in/upload/Downloads/AQI_Bulletin_20221101.pdf)** \n",
    "\n",
    "Removing these duplicates."
   ]
  },
  {
   "cell_type": "code",
   "execution_count": 8,
   "id": "17928751-6f93-4b2a-88a2-a6c423c7f3a5",
   "metadata": {},
   "outputs": [],
   "source": [
    "db = sqlite_utils.Database(\"C:/Users/dskcy/UEInfo/AQI_bulletins/data/Processed/aqi-bulletins.db\")\n",
    "# this creates or connects to an SQLite file"
   ]
  },
  {
   "cell_type": "code",
   "execution_count": 120,
   "id": "8b725fc5-85fb-40df-8e8b-4f312369e7f5",
   "metadata": {},
   "outputs": [
    {
     "data": {
      "text/plain": [
       "<Table aqi_bulletins (date, city, no_stations, aqi_category, aqi, prominent_pollutant, year, month)>"
      ]
     },
     "execution_count": 120,
     "metadata": {},
     "output_type": "execute_result"
    }
   ],
   "source": [
    "# Add a table in the db and insert all rows from csv in it\n",
    "table_name = \"aqi_bulletins\"\n",
    "db[table_name].insert_all(\n",
    "                            time_series_df.drop_duplicates(subset=[\"date\", \"city\"]).to_dict(orient=\"records\"),\n",
    "                            alter=True,\n",
    "                            pk=(\"date\", \"city\") # Primary Key \\\\ Don't auto-create row_id...\n",
    "                         )"
   ]
  },
  {
   "cell_type": "code",
   "execution_count": 121,
   "id": "b7df8c16-3456-4855-84a8-7b21a0a5bf0b",
   "metadata": {},
   "outputs": [],
   "source": [
    "#Date in YYYY-MM-DD format\n",
    "db.execute(\"\"\"\n",
    "    UPDATE aqi_bulletins\n",
    "    SET date = substr(date, 1, 10)\n",
    "\"\"\")\n",
    "db.conn.commit()"
   ]
  },
  {
   "cell_type": "code",
   "execution_count": 9,
   "id": "721b6267-89ad-4473-8308-4a8dd7555675",
   "metadata": {},
   "outputs": [],
   "source": [
    "# To avoid facet timeout errors, create index on columns on which we want facets\n",
    "db.execute(\"CREATE INDEX IF NOT EXISTS idx_city ON aqi_bulletins(city)\")\n",
    "db.execute(\"CREATE INDEX IF NOT EXISTS idx_aqicategory ON aqi_bulletins(aqi_category)\")\n",
    "db.conn.commit()"
   ]
  },
  {
   "cell_type": "markdown",
   "id": "961c44e1-cca1-4f1c-bb41-f48624a62b13",
   "metadata": {},
   "source": [
    "<a id=\"step2\"> </a>\n",
    "### STEP 2: Explore the SQLite db created"
   ]
  },
  {
   "cell_type": "code",
   "execution_count": 3,
   "id": "e0d30df6-a380-4a0b-8575-f4a43fed2e6c",
   "metadata": {},
   "outputs": [
    {
     "data": {
      "text/plain": [
       "[<Table aqi_bulletins (date, city, no_stations, aqi_category, aqi, prominent_pollutant, year, month)>]"
      ]
     },
     "execution_count": 3,
     "metadata": {},
     "output_type": "execute_result"
    }
   ],
   "source": [
    "#See all tables in db\n",
    "db.tables"
   ]
  },
  {
   "cell_type": "code",
   "execution_count": 4,
   "id": "239e0c13-b732-43d1-85af-98dc37bd4c70",
   "metadata": {},
   "outputs": [
    {
     "name": "stdout",
     "output_type": "stream",
     "text": [
      "aqi_bulletins: 387686 rows\n"
     ]
    }
   ],
   "source": [
    "for table_name in db.table_names():\n",
    "    row_count = db[table_name].count\n",
    "    print(f\"{table_name}: {row_count} rows\")"
   ]
  },
  {
   "cell_type": "code",
   "execution_count": 125,
   "id": "b3258652-bbc7-438c-8b84-c67e51599b92",
   "metadata": {},
   "outputs": [
    {
     "name": "stdout",
     "output_type": "stream",
     "text": [
      "CREATE TABLE [aqi_bulletins] (\n",
      "   [date] TEXT,\n",
      "   [city] TEXT,\n",
      "   [no_stations] INTEGER,\n",
      "   [aqi_category] TEXT,\n",
      "   [aqi] INTEGER,\n",
      "   [prominent_pollutant] TEXT,\n",
      "   [year] INTEGER,\n",
      "   [month] TEXT,\n",
      "   PRIMARY KEY ([date], [city])\n",
      ")\n"
     ]
    }
   ],
   "source": [
    "# Inspect schema\n",
    "print(db[\"aqi_bulletins\"].schema)"
   ]
  },
  {
   "cell_type": "code",
   "execution_count": 126,
   "id": "e56b3988-573b-4ba3-857c-996aa692ccf9",
   "metadata": {},
   "outputs": [
    {
     "data": {
      "text/plain": [
       "[{'date': '2015-05-01',\n",
       "  'city': 'Varanasi',\n",
       "  'no_stations': 0,\n",
       "  'aqi_category': 'Moderate',\n",
       "  'aqi': 157,\n",
       "  'prominent_pollutant': 'PM10',\n",
       "  'year': 2015,\n",
       "  'month': 'May'},\n",
       " {'date': '2015-05-01',\n",
       "  'city': 'Kanpur',\n",
       "  'no_stations': 0,\n",
       "  'aqi_category': 'Moderate',\n",
       "  'aqi': 175,\n",
       "  'prominent_pollutant': 'PM10',\n",
       "  'year': 2015,\n",
       "  'month': 'May'},\n",
       " {'date': '2015-05-01',\n",
       "  'city': 'Faridabad',\n",
       "  'no_stations': 0,\n",
       "  'aqi_category': 'Moderate',\n",
       "  'aqi': 173,\n",
       "  'prominent_pollutant': 'PM10',\n",
       "  'year': 2015,\n",
       "  'month': 'May'},\n",
       " {'date': '2015-05-01',\n",
       "  'city': 'Ahmedabad',\n",
       "  'no_stations': 0,\n",
       "  'aqi_category': 'Moderate',\n",
       "  'aqi': 168,\n",
       "  'prominent_pollutant': 'PM2.5',\n",
       "  'year': 2015,\n",
       "  'month': 'May'},\n",
       " {'date': '2015-05-01',\n",
       "  'city': 'Hyderabad',\n",
       "  'no_stations': 0,\n",
       "  'aqi_category': 'Moderate',\n",
       "  'aqi': 189,\n",
       "  'prominent_pollutant': 'PM2.5',\n",
       "  'year': 2015,\n",
       "  'month': 'May'}]"
      ]
     },
     "execution_count": 126,
     "metadata": {},
     "output_type": "execute_result"
    }
   ],
   "source": [
    "# Show first 5 rows in the table\n",
    "list(db[table_name].rows)[:5]  "
   ]
  },
  {
   "cell_type": "code",
   "execution_count": 127,
   "id": "1eb59475-5fca-4ac3-9b3c-c954f6036bac",
   "metadata": {},
   "outputs": [
    {
     "data": {
      "text/plain": [
       "[('2015-08', 246),\n",
       " ('2015-09', 302),\n",
       " ('2016-03', 352),\n",
       " ('2016-10', 445),\n",
       " ('2016-11', 497),\n",
       " ('2017-04', 383),\n",
       " ('2017-05', 368),\n",
       " ('2017-12', 469),\n",
       " ('2018-06', 447),\n",
       " ('2019-02', 382),\n",
       " ('2019-07', 317),\n",
       " ('2021-01', 460)]"
      ]
     },
     "execution_count": 127,
     "metadata": {},
     "output_type": "execute_result"
    }
   ],
   "source": [
    "# Run SQL queries\n",
    "## Max AQI in each month in Delhi\n",
    "results = db.execute(\"\"\"\n",
    "    SELECT\n",
    "        substr(date, 1, 7) AS month,\n",
    "        MAX(aqi) AS max_aqi\n",
    "    FROM\n",
    "        aqi_bulletins\n",
    "    WHERE\n",
    "        city = 'Delhi'\n",
    "    GROUP BY\n",
    "        month\n",
    "    ORDER BY\n",
    "        month\n",
    "\"\"\")\n",
    "list(results)"
   ]
  },
  {
   "cell_type": "code",
   "execution_count": 128,
   "id": "f6f6a0e6-608f-4195-8fe2-865ae1fa7bf2",
   "metadata": {},
   "outputs": [],
   "source": [
    "db.conn.close()"
   ]
  },
  {
   "cell_type": "markdown",
   "id": "1939616c-4856-4bc2-a623-f99a08a4f214",
   "metadata": {},
   "source": [
    "<a id=\"step3\"> </a>\n",
    "### STEP 3: Opening the SQLite db in Datasette"
   ]
  },
  {
   "cell_type": "code",
   "execution_count": 33,
   "id": "4d0559ae-74c6-4dc6-aea1-20a9ea653ab5",
   "metadata": {},
   "outputs": [],
   "source": [
    "import json\n",
    "\n",
    "metadata = {\n",
    "    \"title\": \"Air Quality Index (AQI) Bulletins\",\n",
    "  \"description\": \"This dataset contains daily Air quality bulletins released by CPCB from 2015-24\",\n",
    "  \"license\": \"GODL\",\n",
    "  \"license_url\": \"https://www.data.gov.in/Godl\",\n",
    "  \"source\": \"Central Pollution Control Board (CPCB)\",\n",
    "  \"source_url\": \"https://cpcb.nic.in/AQI_Bulletin.php\",\n",
    "    \"about\": \"UrbanEmissions.info\",\n",
    "    \"about_url\": \"https://github.com/urbanemissionsinfo/AQI_bulletins\",\n",
    "    \"databases\": {\n",
    "        \"aqi-bulletins\": {\n",
    "            \"tables\": {\n",
    "                \"aqi_bulletins\": {\n",
    "                    \"facets\": [\"city\",\"aqi_category\",\"year\",\"month\"]  # specify what you want\n",
    "                }\n",
    "            }\n",
    "        }\n",
    "    }\n",
    "}\n",
    "\n",
    "with open(\"metadata.json\", \"w\") as f:\n",
    "    json.dump(metadata, f, indent=4)\n"
   ]
  },
  {
   "cell_type": "code",
   "execution_count": 37,
   "id": "d1466b18-71d1-4f3e-973c-5568918df7d2",
   "metadata": {},
   "outputs": [],
   "source": [
    "#!pip install datasette\n",
    "\n",
    "#!datasette \"C:/Users/dskcy/UEInfo/AQI_bulletins/data/Processed/aqi_bulletins.db\" --port 8001\n",
    "\n",
    "import subprocess\n",
    "proc = subprocess.Popen([\"datasette\",\n",
    "                         \"C:/Users/dskcy/UEInfo/AQI_bulletins/data/Processed/aqi-bulletins.db\",\n",
    "                         \"-m\", \"metadata.json\",\n",
    "                         \"--config\", \"suggest_facets:off\", #Don't show suggested facets\n",
    "                         \"--config\", \"default_facet_size:10\", #Show only top 10 in facet\n",
    "                         \"--config\", \"facet_time_limit_ms:1000\", #Increased facet query timeout limit to 1000ms from default 200ms.\n",
    "                         \"--port\", \"8001\",\n",
    "                        ])"
   ]
  },
  {
   "cell_type": "markdown",
   "id": "a6dad33c-2ee1-4314-9d3e-d6216db2fc10",
   "metadata": {},
   "source": [
    "You can now see the db on Datasette on your local at `http://localhost:8001/`"
   ]
  },
  {
   "cell_type": "code",
   "execution_count": 36,
   "id": "6a0acacb-ae20-491d-9dc1-30cd52d2dfae",
   "metadata": {},
   "outputs": [
    {
     "data": {
      "text/plain": [
       "1"
      ]
     },
     "execution_count": 36,
     "metadata": {},
     "output_type": "execute_result"
    }
   ],
   "source": [
    "# Kill process\n",
    "proc.terminate()\n",
    "proc.wait()  # wait for the process to cleanly exit"
   ]
  },
  {
   "cell_type": "markdown",
   "id": "0a7f3dd5-2391-4eb7-8347-665b3449210d",
   "metadata": {},
   "source": [
    "<a id=\"step4\"> </a>\n",
    "### STEP 4: Deploy\n",
    "\n",
    "You can use [ngrok](https://tds.s-anand.net/#/ngrok) for pilot usecases"
   ]
  },
  {
   "cell_type": "markdown",
   "id": "b17dcc78-bbec-4690-aa25-441a86155ec1",
   "metadata": {},
   "source": [
    "<a id=\"examples\"> </a>\n",
    "# Examples\n",
    "\n",
    "#### Select all rows that have PM2.5 \n",
    "`SELECT * \r\n",
    "FROM aqi_bulletins\r\n",
    "WHERE prominent_pollutant LIKE '%PM2.5%`';"
   ]
  },
  {
   "cell_type": "markdown",
   "id": "5b8908bd-c42b-4716-a7b6-3dc0e73ed17f",
   "metadata": {},
   "source": [
    "<a id=\"ref\"> </a>\n",
    "### References\n",
    "1. [10 min video tutorial on using sqlite-utils](https://datasette.io/tutorials/clean-data)\n",
    "2. [Datasette config settings](https://docs.datasette.io/en/0.23/config.html)\n",
    "3. [Datasette plugins: Cluster map, full text search](https://www.youtube.com/watch?v=QALfRfavrvU)\n",
    "4. [Simon Willison on Datasette](https://simonwillison.net/2018/Aug/19/instantly-publish-datasette/)"
   ]
  },
  {
   "cell_type": "code",
   "execution_count": 134,
   "id": "74267c05-7572-47bc-a9b2-770dfeaeee4d",
   "metadata": {},
   "outputs": [
    {
     "name": "stdout",
     "output_type": "stream",
     "text": [
      "C:\\Users\\dskcy\\anaconda3\\Scripts\\datasette.exe\n"
     ]
    }
   ],
   "source": [
    "!where datasette\n"
   ]
  },
  {
   "cell_type": "code",
   "execution_count": 135,
   "id": "3bf4f6b5-8808-46c8-b6af-61a0283e258f",
   "metadata": {},
   "outputs": [
    {
     "data": {
      "text/plain": [
       "'C:\\\\Users\\\\dskcy\\\\anaconda3\\\\Scripts\\\\datasette.EXE'"
      ]
     },
     "execution_count": 135,
     "metadata": {},
     "output_type": "execute_result"
    }
   ],
   "source": [
    "import shutil\n",
    "shutil.which(\"datasette\")\n"
   ]
  },
  {
   "cell_type": "code",
   "execution_count": null,
   "id": "88a45080-2e0c-4c70-8b07-9ee652e03de3",
   "metadata": {},
   "outputs": [],
   "source": []
  }
 ],
 "metadata": {
  "kernelspec": {
   "display_name": "Python 3 (ipykernel)",
   "language": "python",
   "name": "python3"
  },
  "language_info": {
   "codemirror_mode": {
    "name": "ipython",
    "version": 3
   },
   "file_extension": ".py",
   "mimetype": "text/x-python",
   "name": "python",
   "nbconvert_exporter": "python",
   "pygments_lexer": "ipython3",
   "version": "3.11.7"
  }
 },
 "nbformat": 4,
 "nbformat_minor": 5
}
