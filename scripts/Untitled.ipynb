{
 "cells": [
  {
   "cell_type": "code",
   "execution_count": 1,
   "id": "2ace5fa3-9f61-4ba4-8124-768707349d22",
   "metadata": {},
   "outputs": [],
   "source": [
    "import pandas as pd"
   ]
  },
  {
   "cell_type": "code",
   "execution_count": 3,
   "id": "caef000b-6978-4860-90b6-b4e15a883fc7",
   "metadata": {},
   "outputs": [],
   "source": [
    "df = pd.read_csv(\"C:/Users/dskcy/UEInfo/AQI_bulletins/data/Processed/AllIndiaBulletins_Master_2024.csv\")"
   ]
  },
  {
   "cell_type": "code",
   "execution_count": 8,
   "id": "3d4b2504-aae0-4494-ab42-a1c5174b473d",
   "metadata": {},
   "outputs": [
    {
     "data": {
      "text/html": [
       "<div>\n",
       "<style scoped>\n",
       "    .dataframe tbody tr th:only-of-type {\n",
       "        vertical-align: middle;\n",
       "    }\n",
       "\n",
       "    .dataframe tbody tr th {\n",
       "        vertical-align: top;\n",
       "    }\n",
       "\n",
       "    .dataframe thead th {\n",
       "        text-align: right;\n",
       "    }\n",
       "</style>\n",
       "<table border=\"1\" class=\"dataframe\">\n",
       "  <thead>\n",
       "    <tr style=\"text-align: right;\">\n",
       "      <th></th>\n",
       "      <th>Unnamed: 0</th>\n",
       "      <th>date</th>\n",
       "      <th>City</th>\n",
       "      <th>No. Stations</th>\n",
       "      <th>Air Quality</th>\n",
       "      <th>Index Value</th>\n",
       "      <th>Prominent Pollutant</th>\n",
       "      <th>year</th>\n",
       "    </tr>\n",
       "  </thead>\n",
       "  <tbody>\n",
       "    <tr>\n",
       "      <th>0</th>\n",
       "      <td>0</td>\n",
       "      <td>2015-05-01</td>\n",
       "      <td>Varanasi</td>\n",
       "      <td>0</td>\n",
       "      <td>Moderate</td>\n",
       "      <td>157</td>\n",
       "      <td>PM10</td>\n",
       "      <td>2015</td>\n",
       "    </tr>\n",
       "    <tr>\n",
       "      <th>1</th>\n",
       "      <td>1</td>\n",
       "      <td>2015-05-01</td>\n",
       "      <td>Kanpur</td>\n",
       "      <td>0</td>\n",
       "      <td>Moderate</td>\n",
       "      <td>175</td>\n",
       "      <td>PM10</td>\n",
       "      <td>2015</td>\n",
       "    </tr>\n",
       "    <tr>\n",
       "      <th>2</th>\n",
       "      <td>2</td>\n",
       "      <td>2015-05-01</td>\n",
       "      <td>Faridabad</td>\n",
       "      <td>0</td>\n",
       "      <td>Moderate</td>\n",
       "      <td>173</td>\n",
       "      <td>PM10</td>\n",
       "      <td>2015</td>\n",
       "    </tr>\n",
       "    <tr>\n",
       "      <th>3</th>\n",
       "      <td>3</td>\n",
       "      <td>2015-05-01</td>\n",
       "      <td>Ahmedabad</td>\n",
       "      <td>0</td>\n",
       "      <td>Moderate</td>\n",
       "      <td>168</td>\n",
       "      <td>PM2.5</td>\n",
       "      <td>2015</td>\n",
       "    </tr>\n",
       "    <tr>\n",
       "      <th>4</th>\n",
       "      <td>4</td>\n",
       "      <td>2015-05-01</td>\n",
       "      <td>Hyderabad</td>\n",
       "      <td>0</td>\n",
       "      <td>Moderate</td>\n",
       "      <td>189</td>\n",
       "      <td>PM2.5</td>\n",
       "      <td>2015</td>\n",
       "    </tr>\n",
       "    <tr>\n",
       "      <th>...</th>\n",
       "      <td>...</td>\n",
       "      <td>...</td>\n",
       "      <td>...</td>\n",
       "      <td>...</td>\n",
       "      <td>...</td>\n",
       "      <td>...</td>\n",
       "      <td>...</td>\n",
       "      <td>...</td>\n",
       "    </tr>\n",
       "    <tr>\n",
       "      <th>2905</th>\n",
       "      <td>2905</td>\n",
       "      <td>2015-12-31</td>\n",
       "      <td>Navi Mumbai</td>\n",
       "      <td>1</td>\n",
       "      <td>Moderate</td>\n",
       "      <td>116</td>\n",
       "      <td>CO</td>\n",
       "      <td>2015</td>\n",
       "    </tr>\n",
       "    <tr>\n",
       "      <th>2906</th>\n",
       "      <td>2906</td>\n",
       "      <td>2015-12-31</td>\n",
       "      <td>Muzaffarpur</td>\n",
       "      <td>1</td>\n",
       "      <td>Severe</td>\n",
       "      <td>465</td>\n",
       "      <td>PM2.5</td>\n",
       "      <td>2015</td>\n",
       "    </tr>\n",
       "    <tr>\n",
       "      <th>2907</th>\n",
       "      <td>2907</td>\n",
       "      <td>2015-12-31</td>\n",
       "      <td>Mumbai</td>\n",
       "      <td>1</td>\n",
       "      <td>Moderate</td>\n",
       "      <td>194</td>\n",
       "      <td>PM10</td>\n",
       "      <td>2015</td>\n",
       "    </tr>\n",
       "    <tr>\n",
       "      <th>2908</th>\n",
       "      <td>2908</td>\n",
       "      <td>2015-12-31</td>\n",
       "      <td>Lucknow</td>\n",
       "      <td>3</td>\n",
       "      <td>Very Poor</td>\n",
       "      <td>341</td>\n",
       "      <td>PM2.5</td>\n",
       "      <td>2015</td>\n",
       "    </tr>\n",
       "    <tr>\n",
       "      <th>2909</th>\n",
       "      <td>2909</td>\n",
       "      <td>2015-12-31</td>\n",
       "      <td>Kanpur</td>\n",
       "      <td>1</td>\n",
       "      <td>Severe</td>\n",
       "      <td>419</td>\n",
       "      <td>PM2.5</td>\n",
       "      <td>2015</td>\n",
       "    </tr>\n",
       "  </tbody>\n",
       "</table>\n",
       "<p>2910 rows × 8 columns</p>\n",
       "</div>"
      ],
      "text/plain": [
       "      Unnamed: 0        date         City  No. Stations Air Quality  \\\n",
       "0              0  2015-05-01     Varanasi             0    Moderate   \n",
       "1              1  2015-05-01       Kanpur             0    Moderate   \n",
       "2              2  2015-05-01    Faridabad             0    Moderate   \n",
       "3              3  2015-05-01    Ahmedabad             0    Moderate   \n",
       "4              4  2015-05-01    Hyderabad             0    Moderate   \n",
       "...          ...         ...          ...           ...         ...   \n",
       "2905        2905  2015-12-31  Navi Mumbai             1    Moderate   \n",
       "2906        2906  2015-12-31  Muzaffarpur             1      Severe   \n",
       "2907        2907  2015-12-31       Mumbai             1    Moderate   \n",
       "2908        2908  2015-12-31      Lucknow             3   Very Poor   \n",
       "2909        2909  2015-12-31       Kanpur             1      Severe   \n",
       "\n",
       "      Index Value Prominent Pollutant  year  \n",
       "0             157                PM10  2015  \n",
       "1             175                PM10  2015  \n",
       "2             173                PM10  2015  \n",
       "3             168               PM2.5  2015  \n",
       "4             189               PM2.5  2015  \n",
       "...           ...                 ...   ...  \n",
       "2905          116                  CO  2015  \n",
       "2906          465               PM2.5  2015  \n",
       "2907          194                PM10  2015  \n",
       "2908          341               PM2.5  2015  \n",
       "2909          419               PM2.5  2015  \n",
       "\n",
       "[2910 rows x 8 columns]"
      ]
     },
     "execution_count": 8,
     "metadata": {},
     "output_type": "execute_result"
    }
   ],
   "source": [
    "df[df.year==2015]#['No. Stations']"
   ]
  },
  {
   "cell_type": "code",
   "execution_count": 56,
   "id": "81f061df-6475-4044-8e7b-f4b1b4f55605",
   "metadata": {},
   "outputs": [],
   "source": [
    "year = 2024\n",
    "values = {}\n",
    "for city in df[(df.year==year)]['City'].unique():\n",
    "    max_stations_city = df[(df.year==year)&(df['City']==city)]['No. Stations'].max()\n",
    "    values[city] = max_stations_city"
   ]
  },
  {
   "cell_type": "code",
   "execution_count": 57,
   "id": "7ba631c4-3ad2-4e8d-8be7-e564748e8aae",
   "metadata": {},
   "outputs": [
    {
     "data": {
      "text/plain": [
       "283"
      ]
     },
     "execution_count": 57,
     "metadata": {},
     "output_type": "execute_result"
    }
   ],
   "source": [
    "len(values)"
   ]
  },
  {
   "cell_type": "code",
   "execution_count": 58,
   "id": "f34dec43-7de9-46ad-9b08-a4f03c981879",
   "metadata": {},
   "outputs": [
    {
     "data": {
      "text/plain": [
       "542"
      ]
     },
     "execution_count": 58,
     "metadata": {},
     "output_type": "execute_result"
    }
   ],
   "source": [
    "sum(values.values())"
   ]
  },
  {
   "cell_type": "code",
   "execution_count": null,
   "id": "0b00590d-369a-4c03-aa46-228cac5e10a8",
   "metadata": {},
   "outputs": [],
   "source": []
  },
  {
   "cell_type": "code",
   "execution_count": null,
   "id": "5d2db6ec-613f-4d41-a3bc-41042d740cb8",
   "metadata": {},
   "outputs": [],
   "source": []
  }
 ],
 "metadata": {
  "kernelspec": {
   "display_name": "Python 3 (ipykernel)",
   "language": "python",
   "name": "python3"
  },
  "language_info": {
   "codemirror_mode": {
    "name": "ipython",
    "version": 3
   },
   "file_extension": ".py",
   "mimetype": "text/x-python",
   "name": "python",
   "nbconvert_exporter": "python",
   "pygments_lexer": "ipython3",
   "version": "3.11.7"
  }
 },
 "nbformat": 4,
 "nbformat_minor": 5
}
